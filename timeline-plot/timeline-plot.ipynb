{
 "cells": [
  {
   "cell_type": "markdown",
   "id": "0e465ec8",
   "metadata": {},
   "source": [
    "# timeline_plot\n",
    "Use the Python3 kernel"
   ]
  },
  {
   "cell_type": "code",
   "execution_count": 1,
   "id": "59de2176-d5ff-4d5e-9de3-766d66f1194a",
   "metadata": {},
   "outputs": [],
   "source": [
    "import pandas as pd\n",
    "import plotly.express as px"
   ]
  },
  {
   "cell_type": "code",
   "execution_count": 2,
   "id": "f4804c4e-fff8-4e5f-81bf-2156a07be29d",
   "metadata": {},
   "outputs": [
    {
     "data": {
      "text/html": [
       "<div>\n",
       "<style scoped>\n",
       "    .dataframe tbody tr th:only-of-type {\n",
       "        vertical-align: middle;\n",
       "    }\n",
       "\n",
       "    .dataframe tbody tr th {\n",
       "        vertical-align: top;\n",
       "    }\n",
       "\n",
       "    .dataframe thead th {\n",
       "        text-align: right;\n",
       "    }\n",
       "</style>\n",
       "<table border=\"1\" class=\"dataframe\">\n",
       "  <thead>\n",
       "    <tr style=\"text-align: right;\">\n",
       "      <th></th>\n",
       "      <th>start_date</th>\n",
       "      <th>end_date</th>\n",
       "      <th>images</th>\n",
       "      <th>total_palms</th>\n",
       "      <th>0 no damage</th>\n",
       "      <th>1 light damage</th>\n",
       "      <th>2 medium damage</th>\n",
       "      <th>3 heavy damage</th>\n",
       "      <th>4 dead or dying</th>\n",
       "      <th>time</th>\n",
       "    </tr>\n",
       "  </thead>\n",
       "  <tbody>\n",
       "    <tr>\n",
       "      <th>0</th>\n",
       "      <td>2020-09-30</td>\n",
       "      <td>2020-10-22</td>\n",
       "      <td>174944</td>\n",
       "      <td>57666</td>\n",
       "      <td>46585</td>\n",
       "      <td>6950</td>\n",
       "      <td>2549</td>\n",
       "      <td>1063</td>\n",
       "      <td>519</td>\n",
       "      <td>2020-10-11 00:00:00</td>\n",
       "    </tr>\n",
       "    <tr>\n",
       "      <th>1</th>\n",
       "      <td>2020-12-11</td>\n",
       "      <td>2020-12-24</td>\n",
       "      <td>882847</td>\n",
       "      <td>76088</td>\n",
       "      <td>59695</td>\n",
       "      <td>9122</td>\n",
       "      <td>4461</td>\n",
       "      <td>2341</td>\n",
       "      <td>469</td>\n",
       "      <td>2020-12-17 12:00:00</td>\n",
       "    </tr>\n",
       "    <tr>\n",
       "      <th>2</th>\n",
       "      <td>2021-03-03</td>\n",
       "      <td>2021-03-18</td>\n",
       "      <td>691748</td>\n",
       "      <td>67674</td>\n",
       "      <td>52202</td>\n",
       "      <td>8855</td>\n",
       "      <td>4058</td>\n",
       "      <td>2268</td>\n",
       "      <td>291</td>\n",
       "      <td>2021-03-10 12:00:00</td>\n",
       "    </tr>\n",
       "    <tr>\n",
       "      <th>3</th>\n",
       "      <td>2021-05-07</td>\n",
       "      <td>2021-05-20</td>\n",
       "      <td>37797</td>\n",
       "      <td>17982</td>\n",
       "      <td>14396</td>\n",
       "      <td>2259</td>\n",
       "      <td>871</td>\n",
       "      <td>402</td>\n",
       "      <td>54</td>\n",
       "      <td>2021-05-13 12:00:00</td>\n",
       "    </tr>\n",
       "    <tr>\n",
       "      <th>4</th>\n",
       "      <td>2021-08-23</td>\n",
       "      <td>2021-09-03</td>\n",
       "      <td>35868</td>\n",
       "      <td>12873</td>\n",
       "      <td>10131</td>\n",
       "      <td>1568</td>\n",
       "      <td>683</td>\n",
       "      <td>422</td>\n",
       "      <td>69</td>\n",
       "      <td>2021-08-28 12:00:00</td>\n",
       "    </tr>\n",
       "    <tr>\n",
       "      <th>5</th>\n",
       "      <td>2022-02-15</td>\n",
       "      <td>2022-02-23</td>\n",
       "      <td>23842</td>\n",
       "      <td>8656</td>\n",
       "      <td>8027</td>\n",
       "      <td>184</td>\n",
       "      <td>77</td>\n",
       "      <td>326</td>\n",
       "      <td>42</td>\n",
       "      <td>2022-02-19 00:00:00</td>\n",
       "    </tr>\n",
       "    <tr>\n",
       "      <th>6</th>\n",
       "      <td>2022-11-10</td>\n",
       "      <td>2022-11-28</td>\n",
       "      <td>26267</td>\n",
       "      <td>8872</td>\n",
       "      <td>8247</td>\n",
       "      <td>222</td>\n",
       "      <td>66</td>\n",
       "      <td>270</td>\n",
       "      <td>67</td>\n",
       "      <td>2022-11-19 00:00:00</td>\n",
       "    </tr>\n",
       "    <tr>\n",
       "      <th>7</th>\n",
       "      <td>2023-04-03</td>\n",
       "      <td>2023-04-07</td>\n",
       "      <td>22279</td>\n",
       "      <td>7913</td>\n",
       "      <td>6347</td>\n",
       "      <td>908</td>\n",
       "      <td>398</td>\n",
       "      <td>218</td>\n",
       "      <td>42</td>\n",
       "      <td>2023-04-05 00:00:00</td>\n",
       "    </tr>\n",
       "    <tr>\n",
       "      <th>8</th>\n",
       "      <td>2023-06-08</td>\n",
       "      <td>2023-06-15</td>\n",
       "      <td>24470</td>\n",
       "      <td>11358</td>\n",
       "      <td>8918</td>\n",
       "      <td>61</td>\n",
       "      <td>152</td>\n",
       "      <td>2101</td>\n",
       "      <td>126</td>\n",
       "      <td>2023-06-11 12:00:00</td>\n",
       "    </tr>\n",
       "    <tr>\n",
       "      <th>9</th>\n",
       "      <td>2023-09-14</td>\n",
       "      <td>2023-09-22</td>\n",
       "      <td>27161</td>\n",
       "      <td>13252</td>\n",
       "      <td>11516</td>\n",
       "      <td>145</td>\n",
       "      <td>157</td>\n",
       "      <td>1351</td>\n",
       "      <td>83</td>\n",
       "      <td>2023-09-18 00:00:00</td>\n",
       "    </tr>\n",
       "  </tbody>\n",
       "</table>\n",
       "</div>"
      ],
      "text/plain": [
       "  start_date   end_date  images  total_palms  0 no damage  1 light damage  \\\n",
       "0 2020-09-30 2020-10-22  174944        57666        46585            6950   \n",
       "1 2020-12-11 2020-12-24  882847        76088        59695            9122   \n",
       "2 2021-03-03 2021-03-18  691748        67674        52202            8855   \n",
       "3 2021-05-07 2021-05-20   37797        17982        14396            2259   \n",
       "4 2021-08-23 2021-09-03   35868        12873        10131            1568   \n",
       "5 2022-02-15 2022-02-23   23842         8656         8027             184   \n",
       "6 2022-11-10 2022-11-28   26267         8872         8247             222   \n",
       "7 2023-04-03 2023-04-07   22279         7913         6347             908   \n",
       "8 2023-06-08 2023-06-15   24470        11358         8918              61   \n",
       "9 2023-09-14 2023-09-22   27161        13252        11516             145   \n",
       "\n",
       "   2 medium damage  3 heavy damage  4 dead or dying                time  \n",
       "0             2549            1063              519 2020-10-11 00:00:00  \n",
       "1             4461            2341              469 2020-12-17 12:00:00  \n",
       "2             4058            2268              291 2021-03-10 12:00:00  \n",
       "3              871             402               54 2021-05-13 12:00:00  \n",
       "4              683             422               69 2021-08-28 12:00:00  \n",
       "5               77             326               42 2022-02-19 00:00:00  \n",
       "6               66             270               67 2022-11-19 00:00:00  \n",
       "7              398             218               42 2023-04-05 00:00:00  \n",
       "8              152            2101              126 2023-06-11 12:00:00  \n",
       "9              157            1351               83 2023-09-18 00:00:00  "
      ]
     },
     "execution_count": 2,
     "metadata": {},
     "output_type": "execute_result"
    }
   ],
   "source": [
    "df = pd.read_csv('timeline-plot.csv')\n",
    "df.start_date = pd.to_datetime(df.start_date)\n",
    "df.end_date = pd.to_datetime(df.end_date)\n",
    "# calculate midpoint time\n",
    "df['time'] = df.start_date + (df.end_date - df.start_date)/2\n",
    "df = df.rename(axis='columns', mapper={'damage0':'0 no damage','damage1':'1 light damage', 'damage2':'2 medium damage', 'damage3':'3 heavy damage', 'damage4':'4 dead or dying'})\n",
    "df"
   ]
  },
  {
   "cell_type": "raw",
   "id": "285b541c-b640-40a4-8f10-df60c6698cb9",
   "metadata": {},
   "source": [
    "p.figure.savefig('timeline.pdf')\n",
    "p.figure.savefig('timeline.png')\n",
    "p.figure.savefig('timeline.svg')"
   ]
  },
  {
   "cell_type": "code",
   "execution_count": 3,
   "id": "20a42760-aed6-482e-ac25-b26b158afd36",
   "metadata": {},
   "outputs": [
    {
     "data": {
      "text/html": [
       "<div>\n",
       "<style scoped>\n",
       "    .dataframe tbody tr th:only-of-type {\n",
       "        vertical-align: middle;\n",
       "    }\n",
       "\n",
       "    .dataframe tbody tr th {\n",
       "        vertical-align: top;\n",
       "    }\n",
       "\n",
       "    .dataframe thead th {\n",
       "        text-align: right;\n",
       "    }\n",
       "</style>\n",
       "<table border=\"1\" class=\"dataframe\">\n",
       "  <thead>\n",
       "    <tr style=\"text-align: right;\">\n",
       "      <th></th>\n",
       "      <th>time</th>\n",
       "      <th>damage index</th>\n",
       "      <th>percent of coconut palms</th>\n",
       "    </tr>\n",
       "  </thead>\n",
       "  <tbody>\n",
       "    <tr>\n",
       "      <th>0</th>\n",
       "      <td>2020-10-11 00:00:00</td>\n",
       "      <td>1 light damage</td>\n",
       "      <td>12.052162</td>\n",
       "    </tr>\n",
       "    <tr>\n",
       "      <th>1</th>\n",
       "      <td>2020-12-17 12:00:00</td>\n",
       "      <td>1 light damage</td>\n",
       "      <td>11.988750</td>\n",
       "    </tr>\n",
       "    <tr>\n",
       "      <th>2</th>\n",
       "      <td>2021-03-10 12:00:00</td>\n",
       "      <td>1 light damage</td>\n",
       "      <td>13.084789</td>\n",
       "    </tr>\n",
       "    <tr>\n",
       "      <th>3</th>\n",
       "      <td>2021-05-13 12:00:00</td>\n",
       "      <td>1 light damage</td>\n",
       "      <td>12.562563</td>\n",
       "    </tr>\n",
       "    <tr>\n",
       "      <th>4</th>\n",
       "      <td>2021-08-28 12:00:00</td>\n",
       "      <td>1 light damage</td>\n",
       "      <td>12.180533</td>\n",
       "    </tr>\n",
       "    <tr>\n",
       "      <th>5</th>\n",
       "      <td>2022-02-19 00:00:00</td>\n",
       "      <td>1 light damage</td>\n",
       "      <td>2.125693</td>\n",
       "    </tr>\n",
       "    <tr>\n",
       "      <th>6</th>\n",
       "      <td>2022-11-19 00:00:00</td>\n",
       "      <td>1 light damage</td>\n",
       "      <td>2.502254</td>\n",
       "    </tr>\n",
       "    <tr>\n",
       "      <th>7</th>\n",
       "      <td>2023-04-05 00:00:00</td>\n",
       "      <td>1 light damage</td>\n",
       "      <td>11.474788</td>\n",
       "    </tr>\n",
       "    <tr>\n",
       "      <th>8</th>\n",
       "      <td>2023-06-11 12:00:00</td>\n",
       "      <td>1 light damage</td>\n",
       "      <td>0.537066</td>\n",
       "    </tr>\n",
       "    <tr>\n",
       "      <th>9</th>\n",
       "      <td>2023-09-18 00:00:00</td>\n",
       "      <td>1 light damage</td>\n",
       "      <td>1.094174</td>\n",
       "    </tr>\n",
       "    <tr>\n",
       "      <th>10</th>\n",
       "      <td>2020-10-11 00:00:00</td>\n",
       "      <td>2 medium damage</td>\n",
       "      <td>4.420282</td>\n",
       "    </tr>\n",
       "    <tr>\n",
       "      <th>11</th>\n",
       "      <td>2020-12-17 12:00:00</td>\n",
       "      <td>2 medium damage</td>\n",
       "      <td>5.862948</td>\n",
       "    </tr>\n",
       "    <tr>\n",
       "      <th>12</th>\n",
       "      <td>2021-03-10 12:00:00</td>\n",
       "      <td>2 medium damage</td>\n",
       "      <td>5.996394</td>\n",
       "    </tr>\n",
       "    <tr>\n",
       "      <th>13</th>\n",
       "      <td>2021-05-13 12:00:00</td>\n",
       "      <td>2 medium damage</td>\n",
       "      <td>4.843733</td>\n",
       "    </tr>\n",
       "    <tr>\n",
       "      <th>14</th>\n",
       "      <td>2021-08-28 12:00:00</td>\n",
       "      <td>2 medium damage</td>\n",
       "      <td>5.305679</td>\n",
       "    </tr>\n",
       "    <tr>\n",
       "      <th>15</th>\n",
       "      <td>2022-02-19 00:00:00</td>\n",
       "      <td>2 medium damage</td>\n",
       "      <td>0.889556</td>\n",
       "    </tr>\n",
       "    <tr>\n",
       "      <th>16</th>\n",
       "      <td>2022-11-19 00:00:00</td>\n",
       "      <td>2 medium damage</td>\n",
       "      <td>0.743913</td>\n",
       "    </tr>\n",
       "    <tr>\n",
       "      <th>17</th>\n",
       "      <td>2023-04-05 00:00:00</td>\n",
       "      <td>2 medium damage</td>\n",
       "      <td>5.029698</td>\n",
       "    </tr>\n",
       "    <tr>\n",
       "      <th>18</th>\n",
       "      <td>2023-06-11 12:00:00</td>\n",
       "      <td>2 medium damage</td>\n",
       "      <td>1.338264</td>\n",
       "    </tr>\n",
       "    <tr>\n",
       "      <th>19</th>\n",
       "      <td>2023-09-18 00:00:00</td>\n",
       "      <td>2 medium damage</td>\n",
       "      <td>1.184727</td>\n",
       "    </tr>\n",
       "    <tr>\n",
       "      <th>20</th>\n",
       "      <td>2020-10-11 00:00:00</td>\n",
       "      <td>3 heavy damage</td>\n",
       "      <td>1.843374</td>\n",
       "    </tr>\n",
       "    <tr>\n",
       "      <th>21</th>\n",
       "      <td>2020-12-17 12:00:00</td>\n",
       "      <td>3 heavy damage</td>\n",
       "      <td>3.076701</td>\n",
       "    </tr>\n",
       "    <tr>\n",
       "      <th>22</th>\n",
       "      <td>2021-03-10 12:00:00</td>\n",
       "      <td>3 heavy damage</td>\n",
       "      <td>3.351361</td>\n",
       "    </tr>\n",
       "    <tr>\n",
       "      <th>23</th>\n",
       "      <td>2021-05-13 12:00:00</td>\n",
       "      <td>3 heavy damage</td>\n",
       "      <td>2.235569</td>\n",
       "    </tr>\n",
       "    <tr>\n",
       "      <th>24</th>\n",
       "      <td>2021-08-28 12:00:00</td>\n",
       "      <td>3 heavy damage</td>\n",
       "      <td>3.278179</td>\n",
       "    </tr>\n",
       "    <tr>\n",
       "      <th>25</th>\n",
       "      <td>2022-02-19 00:00:00</td>\n",
       "      <td>3 heavy damage</td>\n",
       "      <td>3.766174</td>\n",
       "    </tr>\n",
       "    <tr>\n",
       "      <th>26</th>\n",
       "      <td>2022-11-19 00:00:00</td>\n",
       "      <td>3 heavy damage</td>\n",
       "      <td>3.043282</td>\n",
       "    </tr>\n",
       "    <tr>\n",
       "      <th>27</th>\n",
       "      <td>2023-04-05 00:00:00</td>\n",
       "      <td>3 heavy damage</td>\n",
       "      <td>2.754960</td>\n",
       "    </tr>\n",
       "    <tr>\n",
       "      <th>28</th>\n",
       "      <td>2023-06-11 12:00:00</td>\n",
       "      <td>3 heavy damage</td>\n",
       "      <td>18.497975</td>\n",
       "    </tr>\n",
       "    <tr>\n",
       "      <th>29</th>\n",
       "      <td>2023-09-18 00:00:00</td>\n",
       "      <td>3 heavy damage</td>\n",
       "      <td>10.194688</td>\n",
       "    </tr>\n",
       "    <tr>\n",
       "      <th>30</th>\n",
       "      <td>2020-10-11 00:00:00</td>\n",
       "      <td>4 dead or dying</td>\n",
       "      <td>0.900010</td>\n",
       "    </tr>\n",
       "    <tr>\n",
       "      <th>31</th>\n",
       "      <td>2020-12-17 12:00:00</td>\n",
       "      <td>4 dead or dying</td>\n",
       "      <td>0.616392</td>\n",
       "    </tr>\n",
       "    <tr>\n",
       "      <th>32</th>\n",
       "      <td>2021-03-10 12:00:00</td>\n",
       "      <td>4 dead or dying</td>\n",
       "      <td>0.430003</td>\n",
       "    </tr>\n",
       "    <tr>\n",
       "      <th>33</th>\n",
       "      <td>2021-05-13 12:00:00</td>\n",
       "      <td>4 dead or dying</td>\n",
       "      <td>0.300300</td>\n",
       "    </tr>\n",
       "    <tr>\n",
       "      <th>34</th>\n",
       "      <td>2021-08-28 12:00:00</td>\n",
       "      <td>4 dead or dying</td>\n",
       "      <td>0.536006</td>\n",
       "    </tr>\n",
       "    <tr>\n",
       "      <th>35</th>\n",
       "      <td>2022-02-19 00:00:00</td>\n",
       "      <td>4 dead or dying</td>\n",
       "      <td>0.485213</td>\n",
       "    </tr>\n",
       "    <tr>\n",
       "      <th>36</th>\n",
       "      <td>2022-11-19 00:00:00</td>\n",
       "      <td>4 dead or dying</td>\n",
       "      <td>0.755185</td>\n",
       "    </tr>\n",
       "    <tr>\n",
       "      <th>37</th>\n",
       "      <td>2023-04-05 00:00:00</td>\n",
       "      <td>4 dead or dying</td>\n",
       "      <td>0.530772</td>\n",
       "    </tr>\n",
       "    <tr>\n",
       "      <th>38</th>\n",
       "      <td>2023-06-11 12:00:00</td>\n",
       "      <td>4 dead or dying</td>\n",
       "      <td>1.109350</td>\n",
       "    </tr>\n",
       "    <tr>\n",
       "      <th>39</th>\n",
       "      <td>2023-09-18 00:00:00</td>\n",
       "      <td>4 dead or dying</td>\n",
       "      <td>0.626321</td>\n",
       "    </tr>\n",
       "  </tbody>\n",
       "</table>\n",
       "</div>"
      ],
      "text/plain": [
       "                  time     damage index  percent of coconut palms\n",
       "0  2020-10-11 00:00:00   1 light damage                 12.052162\n",
       "1  2020-12-17 12:00:00   1 light damage                 11.988750\n",
       "2  2021-03-10 12:00:00   1 light damage                 13.084789\n",
       "3  2021-05-13 12:00:00   1 light damage                 12.562563\n",
       "4  2021-08-28 12:00:00   1 light damage                 12.180533\n",
       "5  2022-02-19 00:00:00   1 light damage                  2.125693\n",
       "6  2022-11-19 00:00:00   1 light damage                  2.502254\n",
       "7  2023-04-05 00:00:00   1 light damage                 11.474788\n",
       "8  2023-06-11 12:00:00   1 light damage                  0.537066\n",
       "9  2023-09-18 00:00:00   1 light damage                  1.094174\n",
       "10 2020-10-11 00:00:00  2 medium damage                  4.420282\n",
       "11 2020-12-17 12:00:00  2 medium damage                  5.862948\n",
       "12 2021-03-10 12:00:00  2 medium damage                  5.996394\n",
       "13 2021-05-13 12:00:00  2 medium damage                  4.843733\n",
       "14 2021-08-28 12:00:00  2 medium damage                  5.305679\n",
       "15 2022-02-19 00:00:00  2 medium damage                  0.889556\n",
       "16 2022-11-19 00:00:00  2 medium damage                  0.743913\n",
       "17 2023-04-05 00:00:00  2 medium damage                  5.029698\n",
       "18 2023-06-11 12:00:00  2 medium damage                  1.338264\n",
       "19 2023-09-18 00:00:00  2 medium damage                  1.184727\n",
       "20 2020-10-11 00:00:00   3 heavy damage                  1.843374\n",
       "21 2020-12-17 12:00:00   3 heavy damage                  3.076701\n",
       "22 2021-03-10 12:00:00   3 heavy damage                  3.351361\n",
       "23 2021-05-13 12:00:00   3 heavy damage                  2.235569\n",
       "24 2021-08-28 12:00:00   3 heavy damage                  3.278179\n",
       "25 2022-02-19 00:00:00   3 heavy damage                  3.766174\n",
       "26 2022-11-19 00:00:00   3 heavy damage                  3.043282\n",
       "27 2023-04-05 00:00:00   3 heavy damage                  2.754960\n",
       "28 2023-06-11 12:00:00   3 heavy damage                 18.497975\n",
       "29 2023-09-18 00:00:00   3 heavy damage                 10.194688\n",
       "30 2020-10-11 00:00:00  4 dead or dying                  0.900010\n",
       "31 2020-12-17 12:00:00  4 dead or dying                  0.616392\n",
       "32 2021-03-10 12:00:00  4 dead or dying                  0.430003\n",
       "33 2021-05-13 12:00:00  4 dead or dying                  0.300300\n",
       "34 2021-08-28 12:00:00  4 dead or dying                  0.536006\n",
       "35 2022-02-19 00:00:00  4 dead or dying                  0.485213\n",
       "36 2022-11-19 00:00:00  4 dead or dying                  0.755185\n",
       "37 2023-04-05 00:00:00  4 dead or dying                  0.530772\n",
       "38 2023-06-11 12:00:00  4 dead or dying                  1.109350\n",
       "39 2023-09-18 00:00:00  4 dead or dying                  0.626321"
      ]
     },
     "execution_count": 3,
     "metadata": {},
     "output_type": "execute_result"
    }
   ],
   "source": [
    "df1 = df.melt(id_vars=['time', 'total_palms'], value_vars=['1 light damage', '2 medium damage', '3 heavy damage', '4 dead or dying'], var_name='damage index', value_name='n')\n",
    "df1['percent of coconut palms'] = 100 * (df1['n'] / df1['total_palms'])\n",
    "df1 = df1[['time', 'damage index', 'percent of coconut palms']]\n",
    "df1"
   ]
  },
  {
   "cell_type": "code",
   "execution_count": 5,
   "id": "de56b061-6f6f-43a8-87ef-33a10ecca98b",
   "metadata": {},
   "outputs": [
    {
     "data": {
      "application/vnd.plotly.v1+json": {
       "config": {
        "plotlyServerURL": "https://plot.ly"
       },
       "data": [
        {
         "fillpattern": {
          "shape": ""
         },
         "hovertemplate": "damage index=1 light damage<br>time=%{x}<br>percent of coconut palms=%{y}<extra></extra>",
         "legendgroup": "1 light damage",
         "line": {
          "color": "#ffff00",
          "shape": "spline"
         },
         "marker": {
          "symbol": "circle"
         },
         "mode": "markers+lines",
         "name": "1 light damage",
         "orientation": "v",
         "showlegend": true,
         "stackgroup": "1",
         "type": "scatter",
         "x": [
          "2020-10-11T00:00:00",
          "2020-12-17T12:00:00",
          "2021-03-10T12:00:00",
          "2021-05-13T12:00:00",
          "2021-08-28T12:00:00",
          "2022-02-19T00:00:00",
          "2022-11-19T00:00:00",
          "2023-04-05T00:00:00",
          "2023-06-11T12:00:00",
          "2023-09-18T00:00:00"
         ],
         "xaxis": "x",
         "y": [
          12.052162452745119,
          11.988749868573231,
          13.084788840618259,
          12.562562562562562,
          12.180532898314302,
          2.1256931608133085,
          2.502254283137962,
          11.474788323012763,
          0.5370663849269238,
          1.094174464231814
         ],
         "yaxis": "y"
        },
        {
         "fillpattern": {
          "shape": ""
         },
         "hovertemplate": "damage index=2 medium damage<br>time=%{x}<br>percent of coconut palms=%{y}<extra></extra>",
         "legendgroup": "2 medium damage",
         "line": {
          "color": "#ffa500",
          "shape": "spline"
         },
         "marker": {
          "symbol": "circle"
         },
         "mode": "markers+lines",
         "name": "2 medium damage",
         "orientation": "v",
         "showlegend": true,
         "stackgroup": "1",
         "type": "scatter",
         "x": [
          "2020-10-11T00:00:00",
          "2020-12-17T12:00:00",
          "2021-03-10T12:00:00",
          "2021-05-13T12:00:00",
          "2021-08-28T12:00:00",
          "2022-02-19T00:00:00",
          "2022-11-19T00:00:00",
          "2023-04-05T00:00:00",
          "2023-06-11T12:00:00",
          "2023-09-18T00:00:00"
         ],
         "xaxis": "x",
         "y": [
          4.42028231540249,
          5.862948165282305,
          5.996394479416024,
          4.8437326215104,
          5.305678552008079,
          0.8895563770794824,
          0.7439134355275023,
          5.029697965373437,
          1.338263778834302,
          1.1847268336854815
         ],
         "yaxis": "y"
        },
        {
         "fillpattern": {
          "shape": ""
         },
         "hovertemplate": "damage index=3 heavy damage<br>time=%{x}<br>percent of coconut palms=%{y}<extra></extra>",
         "legendgroup": "3 heavy damage",
         "line": {
          "color": "#ff6400",
          "shape": "spline"
         },
         "marker": {
          "symbol": "circle"
         },
         "mode": "markers+lines",
         "name": "3 heavy damage",
         "orientation": "v",
         "showlegend": true,
         "stackgroup": "1",
         "type": "scatter",
         "x": [
          "2020-10-11T00:00:00",
          "2020-12-17T12:00:00",
          "2021-03-10T12:00:00",
          "2021-05-13T12:00:00",
          "2021-08-28T12:00:00",
          "2022-02-19T00:00:00",
          "2022-11-19T00:00:00",
          "2023-04-05T00:00:00",
          "2023-06-11T12:00:00",
          "2023-09-18T00:00:00"
         ],
         "xaxis": "x",
         "y": [
          1.843373911837131,
          3.0767006623909157,
          3.3513609362532137,
          2.2355689022355687,
          3.2781791346228544,
          3.766173752310536,
          3.043282236248873,
          2.7549601920889675,
          18.497974995597815,
          10.194687594325384
         ],
         "yaxis": "y"
        },
        {
         "fillpattern": {
          "shape": ""
         },
         "hovertemplate": "damage index=4 dead or dying<br>time=%{x}<br>percent of coconut palms=%{y}<extra></extra>",
         "legendgroup": "4 dead or dying",
         "line": {
          "color": "#ff0000",
          "shape": "spline"
         },
         "marker": {
          "symbol": "circle"
         },
         "mode": "markers+lines",
         "name": "4 dead or dying",
         "orientation": "v",
         "showlegend": true,
         "stackgroup": "1",
         "type": "scatter",
         "x": [
          "2020-10-11T00:00:00",
          "2020-12-17T12:00:00",
          "2021-03-10T12:00:00",
          "2021-05-13T12:00:00",
          "2021-08-28T12:00:00",
          "2022-02-19T00:00:00",
          "2022-11-19T00:00:00",
          "2023-04-05T00:00:00",
          "2023-06-11T12:00:00",
          "2023-09-18T00:00:00"
         ],
         "xaxis": "x",
         "y": [
          0.9000104047445636,
          0.6163915466302177,
          0.4300026598102668,
          0.3003003003003003,
          0.536005593101841,
          0.4852125693160813,
          0.7551848512173129,
          0.5307721470997093,
          1.109350237717908,
          0.626320555387866
         ],
         "yaxis": "y"
        }
       ],
       "layout": {
        "height": 400,
        "legend": {
         "title": {
          "text": "damage index"
         },
         "tracegroupgap": 0
        },
        "margin": {
         "t": 60
        },
        "template": {
         "data": {
          "bar": [
           {
            "error_x": {
             "color": "#2a3f5f"
            },
            "error_y": {
             "color": "#2a3f5f"
            },
            "marker": {
             "line": {
              "color": "#E5ECF6",
              "width": 0.5
             },
             "pattern": {
              "fillmode": "overlay",
              "size": 10,
              "solidity": 0.2
             }
            },
            "type": "bar"
           }
          ],
          "barpolar": [
           {
            "marker": {
             "line": {
              "color": "#E5ECF6",
              "width": 0.5
             },
             "pattern": {
              "fillmode": "overlay",
              "size": 10,
              "solidity": 0.2
             }
            },
            "type": "barpolar"
           }
          ],
          "carpet": [
           {
            "aaxis": {
             "endlinecolor": "#2a3f5f",
             "gridcolor": "white",
             "linecolor": "white",
             "minorgridcolor": "white",
             "startlinecolor": "#2a3f5f"
            },
            "baxis": {
             "endlinecolor": "#2a3f5f",
             "gridcolor": "white",
             "linecolor": "white",
             "minorgridcolor": "white",
             "startlinecolor": "#2a3f5f"
            },
            "type": "carpet"
           }
          ],
          "choropleth": [
           {
            "colorbar": {
             "outlinewidth": 0,
             "ticks": ""
            },
            "type": "choropleth"
           }
          ],
          "contour": [
           {
            "colorbar": {
             "outlinewidth": 0,
             "ticks": ""
            },
            "colorscale": [
             [
              0,
              "#0d0887"
             ],
             [
              0.1111111111111111,
              "#46039f"
             ],
             [
              0.2222222222222222,
              "#7201a8"
             ],
             [
              0.3333333333333333,
              "#9c179e"
             ],
             [
              0.4444444444444444,
              "#bd3786"
             ],
             [
              0.5555555555555556,
              "#d8576b"
             ],
             [
              0.6666666666666666,
              "#ed7953"
             ],
             [
              0.7777777777777778,
              "#fb9f3a"
             ],
             [
              0.8888888888888888,
              "#fdca26"
             ],
             [
              1,
              "#f0f921"
             ]
            ],
            "type": "contour"
           }
          ],
          "contourcarpet": [
           {
            "colorbar": {
             "outlinewidth": 0,
             "ticks": ""
            },
            "type": "contourcarpet"
           }
          ],
          "heatmap": [
           {
            "colorbar": {
             "outlinewidth": 0,
             "ticks": ""
            },
            "colorscale": [
             [
              0,
              "#0d0887"
             ],
             [
              0.1111111111111111,
              "#46039f"
             ],
             [
              0.2222222222222222,
              "#7201a8"
             ],
             [
              0.3333333333333333,
              "#9c179e"
             ],
             [
              0.4444444444444444,
              "#bd3786"
             ],
             [
              0.5555555555555556,
              "#d8576b"
             ],
             [
              0.6666666666666666,
              "#ed7953"
             ],
             [
              0.7777777777777778,
              "#fb9f3a"
             ],
             [
              0.8888888888888888,
              "#fdca26"
             ],
             [
              1,
              "#f0f921"
             ]
            ],
            "type": "heatmap"
           }
          ],
          "heatmapgl": [
           {
            "colorbar": {
             "outlinewidth": 0,
             "ticks": ""
            },
            "colorscale": [
             [
              0,
              "#0d0887"
             ],
             [
              0.1111111111111111,
              "#46039f"
             ],
             [
              0.2222222222222222,
              "#7201a8"
             ],
             [
              0.3333333333333333,
              "#9c179e"
             ],
             [
              0.4444444444444444,
              "#bd3786"
             ],
             [
              0.5555555555555556,
              "#d8576b"
             ],
             [
              0.6666666666666666,
              "#ed7953"
             ],
             [
              0.7777777777777778,
              "#fb9f3a"
             ],
             [
              0.8888888888888888,
              "#fdca26"
             ],
             [
              1,
              "#f0f921"
             ]
            ],
            "type": "heatmapgl"
           }
          ],
          "histogram": [
           {
            "marker": {
             "pattern": {
              "fillmode": "overlay",
              "size": 10,
              "solidity": 0.2
             }
            },
            "type": "histogram"
           }
          ],
          "histogram2d": [
           {
            "colorbar": {
             "outlinewidth": 0,
             "ticks": ""
            },
            "colorscale": [
             [
              0,
              "#0d0887"
             ],
             [
              0.1111111111111111,
              "#46039f"
             ],
             [
              0.2222222222222222,
              "#7201a8"
             ],
             [
              0.3333333333333333,
              "#9c179e"
             ],
             [
              0.4444444444444444,
              "#bd3786"
             ],
             [
              0.5555555555555556,
              "#d8576b"
             ],
             [
              0.6666666666666666,
              "#ed7953"
             ],
             [
              0.7777777777777778,
              "#fb9f3a"
             ],
             [
              0.8888888888888888,
              "#fdca26"
             ],
             [
              1,
              "#f0f921"
             ]
            ],
            "type": "histogram2d"
           }
          ],
          "histogram2dcontour": [
           {
            "colorbar": {
             "outlinewidth": 0,
             "ticks": ""
            },
            "colorscale": [
             [
              0,
              "#0d0887"
             ],
             [
              0.1111111111111111,
              "#46039f"
             ],
             [
              0.2222222222222222,
              "#7201a8"
             ],
             [
              0.3333333333333333,
              "#9c179e"
             ],
             [
              0.4444444444444444,
              "#bd3786"
             ],
             [
              0.5555555555555556,
              "#d8576b"
             ],
             [
              0.6666666666666666,
              "#ed7953"
             ],
             [
              0.7777777777777778,
              "#fb9f3a"
             ],
             [
              0.8888888888888888,
              "#fdca26"
             ],
             [
              1,
              "#f0f921"
             ]
            ],
            "type": "histogram2dcontour"
           }
          ],
          "mesh3d": [
           {
            "colorbar": {
             "outlinewidth": 0,
             "ticks": ""
            },
            "type": "mesh3d"
           }
          ],
          "parcoords": [
           {
            "line": {
             "colorbar": {
              "outlinewidth": 0,
              "ticks": ""
             }
            },
            "type": "parcoords"
           }
          ],
          "pie": [
           {
            "automargin": true,
            "type": "pie"
           }
          ],
          "scatter": [
           {
            "fillpattern": {
             "fillmode": "overlay",
             "size": 10,
             "solidity": 0.2
            },
            "type": "scatter"
           }
          ],
          "scatter3d": [
           {
            "line": {
             "colorbar": {
              "outlinewidth": 0,
              "ticks": ""
             }
            },
            "marker": {
             "colorbar": {
              "outlinewidth": 0,
              "ticks": ""
             }
            },
            "type": "scatter3d"
           }
          ],
          "scattercarpet": [
           {
            "marker": {
             "colorbar": {
              "outlinewidth": 0,
              "ticks": ""
             }
            },
            "type": "scattercarpet"
           }
          ],
          "scattergeo": [
           {
            "marker": {
             "colorbar": {
              "outlinewidth": 0,
              "ticks": ""
             }
            },
            "type": "scattergeo"
           }
          ],
          "scattergl": [
           {
            "marker": {
             "colorbar": {
              "outlinewidth": 0,
              "ticks": ""
             }
            },
            "type": "scattergl"
           }
          ],
          "scattermapbox": [
           {
            "marker": {
             "colorbar": {
              "outlinewidth": 0,
              "ticks": ""
             }
            },
            "type": "scattermapbox"
           }
          ],
          "scatterpolar": [
           {
            "marker": {
             "colorbar": {
              "outlinewidth": 0,
              "ticks": ""
             }
            },
            "type": "scatterpolar"
           }
          ],
          "scatterpolargl": [
           {
            "marker": {
             "colorbar": {
              "outlinewidth": 0,
              "ticks": ""
             }
            },
            "type": "scatterpolargl"
           }
          ],
          "scatterternary": [
           {
            "marker": {
             "colorbar": {
              "outlinewidth": 0,
              "ticks": ""
             }
            },
            "type": "scatterternary"
           }
          ],
          "surface": [
           {
            "colorbar": {
             "outlinewidth": 0,
             "ticks": ""
            },
            "colorscale": [
             [
              0,
              "#0d0887"
             ],
             [
              0.1111111111111111,
              "#46039f"
             ],
             [
              0.2222222222222222,
              "#7201a8"
             ],
             [
              0.3333333333333333,
              "#9c179e"
             ],
             [
              0.4444444444444444,
              "#bd3786"
             ],
             [
              0.5555555555555556,
              "#d8576b"
             ],
             [
              0.6666666666666666,
              "#ed7953"
             ],
             [
              0.7777777777777778,
              "#fb9f3a"
             ],
             [
              0.8888888888888888,
              "#fdca26"
             ],
             [
              1,
              "#f0f921"
             ]
            ],
            "type": "surface"
           }
          ],
          "table": [
           {
            "cells": {
             "fill": {
              "color": "#EBF0F8"
             },
             "line": {
              "color": "white"
             }
            },
            "header": {
             "fill": {
              "color": "#C8D4E3"
             },
             "line": {
              "color": "white"
             }
            },
            "type": "table"
           }
          ]
         },
         "layout": {
          "annotationdefaults": {
           "arrowcolor": "#2a3f5f",
           "arrowhead": 0,
           "arrowwidth": 1
          },
          "autotypenumbers": "strict",
          "coloraxis": {
           "colorbar": {
            "outlinewidth": 0,
            "ticks": ""
           }
          },
          "colorscale": {
           "diverging": [
            [
             0,
             "#8e0152"
            ],
            [
             0.1,
             "#c51b7d"
            ],
            [
             0.2,
             "#de77ae"
            ],
            [
             0.3,
             "#f1b6da"
            ],
            [
             0.4,
             "#fde0ef"
            ],
            [
             0.5,
             "#f7f7f7"
            ],
            [
             0.6,
             "#e6f5d0"
            ],
            [
             0.7,
             "#b8e186"
            ],
            [
             0.8,
             "#7fbc41"
            ],
            [
             0.9,
             "#4d9221"
            ],
            [
             1,
             "#276419"
            ]
           ],
           "sequential": [
            [
             0,
             "#0d0887"
            ],
            [
             0.1111111111111111,
             "#46039f"
            ],
            [
             0.2222222222222222,
             "#7201a8"
            ],
            [
             0.3333333333333333,
             "#9c179e"
            ],
            [
             0.4444444444444444,
             "#bd3786"
            ],
            [
             0.5555555555555556,
             "#d8576b"
            ],
            [
             0.6666666666666666,
             "#ed7953"
            ],
            [
             0.7777777777777778,
             "#fb9f3a"
            ],
            [
             0.8888888888888888,
             "#fdca26"
            ],
            [
             1,
             "#f0f921"
            ]
           ],
           "sequentialminus": [
            [
             0,
             "#0d0887"
            ],
            [
             0.1111111111111111,
             "#46039f"
            ],
            [
             0.2222222222222222,
             "#7201a8"
            ],
            [
             0.3333333333333333,
             "#9c179e"
            ],
            [
             0.4444444444444444,
             "#bd3786"
            ],
            [
             0.5555555555555556,
             "#d8576b"
            ],
            [
             0.6666666666666666,
             "#ed7953"
            ],
            [
             0.7777777777777778,
             "#fb9f3a"
            ],
            [
             0.8888888888888888,
             "#fdca26"
            ],
            [
             1,
             "#f0f921"
            ]
           ]
          },
          "colorway": [
           "#636efa",
           "#EF553B",
           "#00cc96",
           "#ab63fa",
           "#FFA15A",
           "#19d3f3",
           "#FF6692",
           "#B6E880",
           "#FF97FF",
           "#FECB52"
          ],
          "font": {
           "color": "#2a3f5f"
          },
          "geo": {
           "bgcolor": "white",
           "lakecolor": "white",
           "landcolor": "#E5ECF6",
           "showlakes": true,
           "showland": true,
           "subunitcolor": "white"
          },
          "hoverlabel": {
           "align": "left"
          },
          "hovermode": "closest",
          "mapbox": {
           "style": "light"
          },
          "paper_bgcolor": "white",
          "plot_bgcolor": "#E5ECF6",
          "polar": {
           "angularaxis": {
            "gridcolor": "white",
            "linecolor": "white",
            "ticks": ""
           },
           "bgcolor": "#E5ECF6",
           "radialaxis": {
            "gridcolor": "white",
            "linecolor": "white",
            "ticks": ""
           }
          },
          "scene": {
           "xaxis": {
            "backgroundcolor": "#E5ECF6",
            "gridcolor": "white",
            "gridwidth": 2,
            "linecolor": "white",
            "showbackground": true,
            "ticks": "",
            "zerolinecolor": "white"
           },
           "yaxis": {
            "backgroundcolor": "#E5ECF6",
            "gridcolor": "white",
            "gridwidth": 2,
            "linecolor": "white",
            "showbackground": true,
            "ticks": "",
            "zerolinecolor": "white"
           },
           "zaxis": {
            "backgroundcolor": "#E5ECF6",
            "gridcolor": "white",
            "gridwidth": 2,
            "linecolor": "white",
            "showbackground": true,
            "ticks": "",
            "zerolinecolor": "white"
           }
          },
          "shapedefaults": {
           "line": {
            "color": "#2a3f5f"
           }
          },
          "ternary": {
           "aaxis": {
            "gridcolor": "white",
            "linecolor": "white",
            "ticks": ""
           },
           "baxis": {
            "gridcolor": "white",
            "linecolor": "white",
            "ticks": ""
           },
           "bgcolor": "#E5ECF6",
           "caxis": {
            "gridcolor": "white",
            "linecolor": "white",
            "ticks": ""
           }
          },
          "title": {
           "x": 0.05
          },
          "xaxis": {
           "automargin": true,
           "gridcolor": "white",
           "linecolor": "white",
           "ticks": "",
           "title": {
            "standoff": 15
           },
           "zerolinecolor": "white",
           "zerolinewidth": 2
          },
          "yaxis": {
           "automargin": true,
           "gridcolor": "white",
           "linecolor": "white",
           "ticks": "",
           "title": {
            "standoff": 15
           },
           "zerolinecolor": "white",
           "zerolinewidth": 2
          }
         }
        },
        "width": 600,
        "xaxis": {
         "anchor": "y",
         "autorange": true,
         "domain": [
          0,
          1
         ],
         "range": [
          "2020-10-11",
          "2023-09-18"
         ],
         "title": {
          "text": "time"
         },
         "type": "date"
        },
        "yaxis": {
         "anchor": "x",
         "domain": [
          0,
          1
         ],
         "range": [
          0,
          50
         ],
         "title": {
          "text": "percent of coconut palms"
         },
         "type": "linear"
        }
       }
      },
      "image/png": "[encoded data removed]",
      "text/html": [
       "<div>                            <div id=\"3742770f-400a-424f-967a-7e78f8e82551\" class=\"plotly-graph-div\" style=\"height:400px; width:600px;\"></div>            <script type=\"text/javascript\">                require([\"plotly\"], function(Plotly) {                    window.PLOTLYENV=window.PLOTLYENV || {};                                    if (document.getElementById(\"3742770f-400a-424f-967a-7e78f8e82551\")) {                    Plotly.newPlot(                        \"3742770f-400a-424f-967a-7e78f8e82551\",                        [{\"fillpattern\":{\"shape\":\"\"},\"hovertemplate\":\"damage index=1 light damage<br>time=%{x}<br>percent of coconut palms=%{y}<extra></extra>\",\"legendgroup\":\"1 light damage\",\"line\":{\"color\":\"#ffff00\",\"shape\":\"spline\"},\"marker\":{\"symbol\":\"circle\"},\"mode\":\"markers+lines\",\"name\":\"1 light damage\",\"orientation\":\"v\",\"showlegend\":true,\"stackgroup\":\"1\",\"x\":[\"2020-10-11T00:00:00\",\"2020-12-17T12:00:00\",\"2021-03-10T12:00:00\",\"2021-05-13T12:00:00\",\"2021-08-28T12:00:00\",\"2022-02-19T00:00:00\",\"2022-11-19T00:00:00\",\"2023-04-05T00:00:00\",\"2023-06-11T12:00:00\",\"2023-09-18T00:00:00\"],\"xaxis\":\"x\",\"y\":[12.052162452745119,11.988749868573231,13.084788840618259,12.562562562562562,12.180532898314302,2.1256931608133085,2.502254283137962,11.474788323012763,0.5370663849269238,1.094174464231814],\"yaxis\":\"y\",\"type\":\"scatter\"},{\"fillpattern\":{\"shape\":\"\"},\"hovertemplate\":\"damage index=2 medium damage<br>time=%{x}<br>percent of coconut palms=%{y}<extra></extra>\",\"legendgroup\":\"2 medium damage\",\"line\":{\"color\":\"#ffa500\",\"shape\":\"spline\"},\"marker\":{\"symbol\":\"circle\"},\"mode\":\"markers+lines\",\"name\":\"2 medium damage\",\"orientation\":\"v\",\"showlegend\":true,\"stackgroup\":\"1\",\"x\":[\"2020-10-11T00:00:00\",\"2020-12-17T12:00:00\",\"2021-03-10T12:00:00\",\"2021-05-13T12:00:00\",\"2021-08-28T12:00:00\",\"2022-02-19T00:00:00\",\"2022-11-19T00:00:00\",\"2023-04-05T00:00:00\",\"2023-06-11T12:00:00\",\"2023-09-18T00:00:00\"],\"xaxis\":\"x\",\"y\":[4.42028231540249,5.862948165282305,5.996394479416024,4.8437326215104,5.305678552008079,0.8895563770794824,0.7439134355275023,5.029697965373437,1.338263778834302,1.1847268336854815],\"yaxis\":\"y\",\"type\":\"scatter\"},{\"fillpattern\":{\"shape\":\"\"},\"hovertemplate\":\"damage index=3 heavy damage<br>time=%{x}<br>percent of coconut palms=%{y}<extra></extra>\",\"legendgroup\":\"3 heavy damage\",\"line\":{\"color\":\"#ff6400\",\"shape\":\"spline\"},\"marker\":{\"symbol\":\"circle\"},\"mode\":\"markers+lines\",\"name\":\"3 heavy damage\",\"orientation\":\"v\",\"showlegend\":true,\"stackgroup\":\"1\",\"x\":[\"2020-10-11T00:00:00\",\"2020-12-17T12:00:00\",\"2021-03-10T12:00:00\",\"2021-05-13T12:00:00\",\"2021-08-28T12:00:00\",\"2022-02-19T00:00:00\",\"2022-11-19T00:00:00\",\"2023-04-05T00:00:00\",\"2023-06-11T12:00:00\",\"2023-09-18T00:00:00\"],\"xaxis\":\"x\",\"y\":[1.843373911837131,3.0767006623909157,3.3513609362532137,2.2355689022355687,3.2781791346228544,3.766173752310536,3.043282236248873,2.7549601920889675,18.497974995597815,10.194687594325384],\"yaxis\":\"y\",\"type\":\"scatter\"},{\"fillpattern\":{\"shape\":\"\"},\"hovertemplate\":\"damage index=4 dead or dying<br>time=%{x}<br>percent of coconut palms=%{y}<extra></extra>\",\"legendgroup\":\"4 dead or dying\",\"line\":{\"color\":\"#ff0000\",\"shape\":\"spline\"},\"marker\":{\"symbol\":\"circle\"},\"mode\":\"markers+lines\",\"name\":\"4 dead or dying\",\"orientation\":\"v\",\"showlegend\":true,\"stackgroup\":\"1\",\"x\":[\"2020-10-11T00:00:00\",\"2020-12-17T12:00:00\",\"2021-03-10T12:00:00\",\"2021-05-13T12:00:00\",\"2021-08-28T12:00:00\",\"2022-02-19T00:00:00\",\"2022-11-19T00:00:00\",\"2023-04-05T00:00:00\",\"2023-06-11T12:00:00\",\"2023-09-18T00:00:00\"],\"xaxis\":\"x\",\"y\":[0.9000104047445636,0.6163915466302177,0.4300026598102668,0.3003003003003003,0.536005593101841,0.4852125693160813,0.7551848512173129,0.5307721470997093,1.109350237717908,0.626320555387866],\"yaxis\":\"y\",\"type\":\"scatter\"}],                        {\"template\":{\"data\":{\"histogram2dcontour\":[{\"type\":\"histogram2dcontour\",\"colorbar\":{\"outlinewidth\":0,\"ticks\":\"\"},\"colorscale\":[[0.0,\"#0d0887\"],[0.1111111111111111,\"#46039f\"],[0.2222222222222222,\"#7201a8\"],[0.3333333333333333,\"#9c179e\"],[0.4444444444444444,\"#bd3786\"],[0.5555555555555556,\"#d8576b\"],[0.6666666666666666,\"#ed7953\"],[0.7777777777777778,\"#fb9f3a\"],[0.8888888888888888,\"#fdca26\"],[1.0,\"#f0f921\"]]}],\"choropleth\":[{\"type\":\"choropleth\",\"colorbar\":{\"outlinewidth\":0,\"ticks\":\"\"}}],\"histogram2d\":[{\"type\":\"histogram2d\",\"colorbar\":{\"outlinewidth\":0,\"ticks\":\"\"},\"colorscale\":[[0.0,\"#0d0887\"],[0.1111111111111111,\"#46039f\"],[0.2222222222222222,\"#7201a8\"],[0.3333333333333333,\"#9c179e\"],[0.4444444444444444,\"#bd3786\"],[0.5555555555555556,\"#d8576b\"],[0.6666666666666666,\"#ed7953\"],[0.7777777777777778,\"#fb9f3a\"],[0.8888888888888888,\"#fdca26\"],[1.0,\"#f0f921\"]]}],\"heatmap\":[{\"type\":\"heatmap\",\"colorbar\":{\"outlinewidth\":0,\"ticks\":\"\"},\"colorscale\":[[0.0,\"#0d0887\"],[0.1111111111111111,\"#46039f\"],[0.2222222222222222,\"#7201a8\"],[0.3333333333333333,\"#9c179e\"],[0.4444444444444444,\"#bd3786\"],[0.5555555555555556,\"#d8576b\"],[0.6666666666666666,\"#ed7953\"],[0.7777777777777778,\"#fb9f3a\"],[0.8888888888888888,\"#fdca26\"],[1.0,\"#f0f921\"]]}],\"heatmapgl\":[{\"type\":\"heatmapgl\",\"colorbar\":{\"outlinewidth\":0,\"ticks\":\"\"},\"colorscale\":[[0.0,\"#0d0887\"],[0.1111111111111111,\"#46039f\"],[0.2222222222222222,\"#7201a8\"],[0.3333333333333333,\"#9c179e\"],[0.4444444444444444,\"#bd3786\"],[0.5555555555555556,\"#d8576b\"],[0.6666666666666666,\"#ed7953\"],[0.7777777777777778,\"#fb9f3a\"],[0.8888888888888888,\"#fdca26\"],[1.0,\"#f0f921\"]]}],\"contourcarpet\":[{\"type\":\"contourcarpet\",\"colorbar\":{\"outlinewidth\":0,\"ticks\":\"\"}}],\"contour\":[{\"type\":\"contour\",\"colorbar\":{\"outlinewidth\":0,\"ticks\":\"\"},\"colorscale\":[[0.0,\"#0d0887\"],[0.1111111111111111,\"#46039f\"],[0.2222222222222222,\"#7201a8\"],[0.3333333333333333,\"#9c179e\"],[0.4444444444444444,\"#bd3786\"],[0.5555555555555556,\"#d8576b\"],[0.6666666666666666,\"#ed7953\"],[0.7777777777777778,\"#fb9f3a\"],[0.8888888888888888,\"#fdca26\"],[1.0,\"#f0f921\"]]}],\"surface\":[{\"type\":\"surface\",\"colorbar\":{\"outlinewidth\":0,\"ticks\":\"\"},\"colorscale\":[[0.0,\"#0d0887\"],[0.1111111111111111,\"#46039f\"],[0.2222222222222222,\"#7201a8\"],[0.3333333333333333,\"#9c179e\"],[0.4444444444444444,\"#bd3786\"],[0.5555555555555556,\"#d8576b\"],[0.6666666666666666,\"#ed7953\"],[0.7777777777777778,\"#fb9f3a\"],[0.8888888888888888,\"#fdca26\"],[1.0,\"#f0f921\"]]}],\"mesh3d\":[{\"type\":\"mesh3d\",\"colorbar\":{\"outlinewidth\":0,\"ticks\":\"\"}}],\"scatter\":[{\"fillpattern\":{\"fillmode\":\"overlay\",\"size\":10,\"solidity\":0.2},\"type\":\"scatter\"}],\"parcoords\":[{\"type\":\"parcoords\",\"line\":{\"colorbar\":{\"outlinewidth\":0,\"ticks\":\"\"}}}],\"scatterpolargl\":[{\"type\":\"scatterpolargl\",\"marker\":{\"colorbar\":{\"outlinewidth\":0,\"ticks\":\"\"}}}],\"bar\":[{\"error_x\":{\"color\":\"#2a3f5f\"},\"error_y\":{\"color\":\"#2a3f5f\"},\"marker\":{\"line\":{\"color\":\"#E5ECF6\",\"width\":0.5},\"pattern\":{\"fillmode\":\"overlay\",\"size\":10,\"solidity\":0.2}},\"type\":\"bar\"}],\"scattergeo\":[{\"type\":\"scattergeo\",\"marker\":{\"colorbar\":{\"outlinewidth\":0,\"ticks\":\"\"}}}],\"scatterpolar\":[{\"type\":\"scatterpolar\",\"marker\":{\"colorbar\":{\"outlinewidth\":0,\"ticks\":\"\"}}}],\"histogram\":[{\"marker\":{\"pattern\":{\"fillmode\":\"overlay\",\"size\":10,\"solidity\":0.2}},\"type\":\"histogram\"}],\"scattergl\":[{\"type\":\"scattergl\",\"marker\":{\"colorbar\":{\"outlinewidth\":0,\"ticks\":\"\"}}}],\"scatter3d\":[{\"type\":\"scatter3d\",\"line\":{\"colorbar\":{\"outlinewidth\":0,\"ticks\":\"\"}},\"marker\":{\"colorbar\":{\"outlinewidth\":0,\"ticks\":\"\"}}}],\"scattermapbox\":[{\"type\":\"scattermapbox\",\"marker\":{\"colorbar\":{\"outlinewidth\":0,\"ticks\":\"\"}}}],\"scatterternary\":[{\"type\":\"scatterternary\",\"marker\":{\"colorbar\":{\"outlinewidth\":0,\"ticks\":\"\"}}}],\"scattercarpet\":[{\"type\":\"scattercarpet\",\"marker\":{\"colorbar\":{\"outlinewidth\":0,\"ticks\":\"\"}}}],\"carpet\":[{\"aaxis\":{\"endlinecolor\":\"#2a3f5f\",\"gridcolor\":\"white\",\"linecolor\":\"white\",\"minorgridcolor\":\"white\",\"startlinecolor\":\"#2a3f5f\"},\"baxis\":{\"endlinecolor\":\"#2a3f5f\",\"gridcolor\":\"white\",\"linecolor\":\"white\",\"minorgridcolor\":\"white\",\"startlinecolor\":\"#2a3f5f\"},\"type\":\"carpet\"}],\"table\":[{\"cells\":{\"fill\":{\"color\":\"#EBF0F8\"},\"line\":{\"color\":\"white\"}},\"header\":{\"fill\":{\"color\":\"#C8D4E3\"},\"line\":{\"color\":\"white\"}},\"type\":\"table\"}],\"barpolar\":[{\"marker\":{\"line\":{\"color\":\"#E5ECF6\",\"width\":0.5},\"pattern\":{\"fillmode\":\"overlay\",\"size\":10,\"solidity\":0.2}},\"type\":\"barpolar\"}],\"pie\":[{\"automargin\":true,\"type\":\"pie\"}]},\"layout\":{\"autotypenumbers\":\"strict\",\"colorway\":[\"#636efa\",\"#EF553B\",\"#00cc96\",\"#ab63fa\",\"#FFA15A\",\"#19d3f3\",\"#FF6692\",\"#B6E880\",\"#FF97FF\",\"#FECB52\"],\"font\":{\"color\":\"#2a3f5f\"},\"hovermode\":\"closest\",\"hoverlabel\":{\"align\":\"left\"},\"paper_bgcolor\":\"white\",\"plot_bgcolor\":\"#E5ECF6\",\"polar\":{\"bgcolor\":\"#E5ECF6\",\"angularaxis\":{\"gridcolor\":\"white\",\"linecolor\":\"white\",\"ticks\":\"\"},\"radialaxis\":{\"gridcolor\":\"white\",\"linecolor\":\"white\",\"ticks\":\"\"}},\"ternary\":{\"bgcolor\":\"#E5ECF6\",\"aaxis\":{\"gridcolor\":\"white\",\"linecolor\":\"white\",\"ticks\":\"\"},\"baxis\":{\"gridcolor\":\"white\",\"linecolor\":\"white\",\"ticks\":\"\"},\"caxis\":{\"gridcolor\":\"white\",\"linecolor\":\"white\",\"ticks\":\"\"}},\"coloraxis\":{\"colorbar\":{\"outlinewidth\":0,\"ticks\":\"\"}},\"colorscale\":{\"sequential\":[[0.0,\"#0d0887\"],[0.1111111111111111,\"#46039f\"],[0.2222222222222222,\"#7201a8\"],[0.3333333333333333,\"#9c179e\"],[0.4444444444444444,\"#bd3786\"],[0.5555555555555556,\"#d8576b\"],[0.6666666666666666,\"#ed7953\"],[0.7777777777777778,\"#fb9f3a\"],[0.8888888888888888,\"#fdca26\"],[1.0,\"#f0f921\"]],\"sequentialminus\":[[0.0,\"#0d0887\"],[0.1111111111111111,\"#46039f\"],[0.2222222222222222,\"#7201a8\"],[0.3333333333333333,\"#9c179e\"],[0.4444444444444444,\"#bd3786\"],[0.5555555555555556,\"#d8576b\"],[0.6666666666666666,\"#ed7953\"],[0.7777777777777778,\"#fb9f3a\"],[0.8888888888888888,\"#fdca26\"],[1.0,\"#f0f921\"]],\"diverging\":[[0,\"#8e0152\"],[0.1,\"#c51b7d\"],[0.2,\"#de77ae\"],[0.3,\"#f1b6da\"],[0.4,\"#fde0ef\"],[0.5,\"#f7f7f7\"],[0.6,\"#e6f5d0\"],[0.7,\"#b8e186\"],[0.8,\"#7fbc41\"],[0.9,\"#4d9221\"],[1,\"#276419\"]]},\"xaxis\":{\"gridcolor\":\"white\",\"linecolor\":\"white\",\"ticks\":\"\",\"title\":{\"standoff\":15},\"zerolinecolor\":\"white\",\"automargin\":true,\"zerolinewidth\":2},\"yaxis\":{\"gridcolor\":\"white\",\"linecolor\":\"white\",\"ticks\":\"\",\"title\":{\"standoff\":15},\"zerolinecolor\":\"white\",\"automargin\":true,\"zerolinewidth\":2},\"scene\":{\"xaxis\":{\"backgroundcolor\":\"#E5ECF6\",\"gridcolor\":\"white\",\"linecolor\":\"white\",\"showbackground\":true,\"ticks\":\"\",\"zerolinecolor\":\"white\",\"gridwidth\":2},\"yaxis\":{\"backgroundcolor\":\"#E5ECF6\",\"gridcolor\":\"white\",\"linecolor\":\"white\",\"showbackground\":true,\"ticks\":\"\",\"zerolinecolor\":\"white\",\"gridwidth\":2},\"zaxis\":{\"backgroundcolor\":\"#E5ECF6\",\"gridcolor\":\"white\",\"linecolor\":\"white\",\"showbackground\":true,\"ticks\":\"\",\"zerolinecolor\":\"white\",\"gridwidth\":2}},\"shapedefaults\":{\"line\":{\"color\":\"#2a3f5f\"}},\"annotationdefaults\":{\"arrowcolor\":\"#2a3f5f\",\"arrowhead\":0,\"arrowwidth\":1},\"geo\":{\"bgcolor\":\"white\",\"landcolor\":\"#E5ECF6\",\"subunitcolor\":\"white\",\"showland\":true,\"showlakes\":true,\"lakecolor\":\"white\"},\"title\":{\"x\":0.05},\"mapbox\":{\"style\":\"light\"}}},\"xaxis\":{\"anchor\":\"y\",\"domain\":[0.0,1.0],\"title\":{\"text\":\"time\"}},\"yaxis\":{\"anchor\":\"x\",\"domain\":[0.0,1.0],\"title\":{\"text\":\"percent of coconut palms\"},\"range\":[0,50]},\"legend\":{\"title\":{\"text\":\"damage index\"},\"tracegroupgap\":0},\"margin\":{\"t\":60},\"height\":400,\"width\":600},                        {\"responsive\": true}                    ).then(function(){\n",
       "                            \n",
       "var gd = document.getElementById('3742770f-400a-424f-967a-7e78f8e82551');\n",
       "var x = new MutationObserver(function (mutations, observer) {{\n",
       "        var display = window.getComputedStyle(gd).display;\n",
       "        if (!display || display === 'none') {{\n",
       "            console.log([gd, 'removed!']);\n",
       "            Plotly.purge(gd);\n",
       "            observer.disconnect();\n",
       "        }}\n",
       "}});\n",
       "\n",
       "// Listen for the removal of the full notebook cells\n",
       "var notebookContainer = gd.closest('#notebook-container');\n",
       "if (notebookContainer) {{\n",
       "    x.observe(notebookContainer, {childList: true});\n",
       "}}\n",
       "\n",
       "// Listen for the clearing of the current output cell\n",
       "var outputEl = gd.closest('.output');\n",
       "if (outputEl) {{\n",
       "    x.observe(outputEl, {childList: true});\n",
       "}}\n",
       "\n",
       "                        })                };                });            </script>        </div>"
      ]
     },
     "metadata": {},
     "output_type": "display_data"
    }
   ],
   "source": [
    "fig = px.area(df1, \n",
    "              x=\"time\", \n",
    "              y=\"percent of coconut palms\", \n",
    "              color=\"damage index\", \n",
    "              line_shape='spline',\n",
    "              color_discrete_map = {'1 light damage': '#ffff00', '2 medium damage': '#ffa500', '3 heavy damage': '#ff6400', '4 dead or dying': '#ff0000'},\n",
    "              width=600,\n",
    "              height=400\n",
    "             )\n",
    "fig.update_traces(mode='markers+lines')\n",
    "fig.update_layout(yaxis_range=[0, 50])\n",
    "fig.write_html(\"timeline.html\")\n",
    "fig.write_image(\"timeline.png\")\n",
    "fig.show()"
   ]
  },
  {
   "cell_type": "code",
   "execution_count": null,
   "id": "92ad7f3c-6591-431d-b25c-02af2a7b6d49",
   "metadata": {},
   "outputs": [],
   "source": []
  }
 ],
 "metadata": {
  "kernelspec": {
   "display_name": "Python 3 (ipykernel)",
   "language": "python",
   "name": "python3"
  },
  "language_info": {
   "codemirror_mode": {
    "name": "ipython",
    "version": 3
   },
   "file_extension": ".py",
   "mimetype": "text/x-python",
   "name": "python",
   "nbconvert_exporter": "python",
   "pygments_lexer": "ipython3",
   "version": "3.9.5"
  }
 },
 "nbformat": 4,
 "nbformat_minor": 5
}
